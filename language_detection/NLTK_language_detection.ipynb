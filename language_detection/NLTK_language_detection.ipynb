{
 "cells": [
  {
   "cell_type": "code",
   "execution_count": 1,
   "metadata": {
    "id": "rzxcs0Ub8GGM"
   },
   "outputs": [],
   "source": [
    "from nltk import *\n",
    "from nltk.corpus import *\n",
    "import nltk\n",
    "nltk.download('stopwords')"
   ]
  },
  {
   "cell_type": "code",
   "execution_count": 2,
   "metadata": {
    "id": "1Hj_B_XW8LLN"
   },
   "outputs": [],
   "source": [
    "def lang_ratio(input):\n",
    "    lang_ratio={}\n",
    "    tokens = wordpunct_tokenize(input)\n",
    "    words = [word.lower() for word in tokens]\n",
    "    for language in stopwords.fileids():\n",
    "        stopwords_set = set(stopwords.words(language))\n",
    "        words_set = set(words)\n",
    "        common_elements = words_set.intersection(stopwords_set)\n",
    "        lang_ratio[language] = len(common_elements)\n",
    "    return lang_ratio\n",
    "\n",
    "def detect_language(input):\n",
    "    ratios = lang_ratio(input)\n",
    "    lang = max(ratios, key = ratios.get)\n",
    "    return lang"
   ]
  },
  {
   "cell_type": "code",
   "execution_count": 8,
   "metadata": {
    "colab": {
     "base_uri": "https://localhost:8080/"
    },
    "id": "v3pf6wkp8UYX",
    "outputId": "f2599a62-f9d6-4e32-fe9a-b424a90d5784"
   },
   "outputs": [
    {
     "name": "stdout",
     "output_type": "stream",
     "text": [
      "Hello, how are you?. \t Langauge: hinglish\n",
      "        क्या आप मेरी मदद कर सकते हैं?. \t Langauge: nepali\n",
      "        আপনি কি আমাকে সাহায্য করতে পারেন?\t Langauge: bengali\n",
      "        మీరు నాకు సహాయం చేయగలరా? \t Langauge: arabic\n",
      "        எனக்கு புதிய மொழிகளை கற்க விரும்புகிறேன்.\t Langauge: arabic\n",
      "        ನೀವು ನನಗೆ ಸಹಾಯ ಮಾಡುತ್ತೀರಾ? \t Langauge: arabic\n",
      "        મને નવી ભાષાઓ શીખવી ગમે છે. \t Langauge: arabic\n",
      "        तुम्ही मला मदत करू शकता का?\t Langauge: nepali\n",
      "        J'adore apprendre de nouvelles langues. \t Langauge: french\n",
      "        ¿Dónde está el restaurante más cercano? \t Langauge: spanish\n",
      "        最近的餐厅在哪里？\t Langauge: arabic\n"
     ]
    }
   ],
   "source": [
    "text = \"\"\"Hello, how are you?.\n",
    "        क्या आप मेरी मदद कर सकते हैं?.\n",
    "        আপনি কি আমাকে সাহায্য করতে পারেন?\n",
    "        మీరు నాకు సహాయం చేయగలరా?\n",
    "        எனக்கு புதிய மொழிகளை கற்க விரும்புகிறேன்.\n",
    "        ನೀವು ನನಗೆ ಸಹಾಯ ಮಾಡುತ್ತೀರಾ?\n",
    "        મને નવી ભાષાઓ શીખવી ગમે છે.\n",
    "        तुम्ही मला मदत करू शकता का?\n",
    "        J'adore apprendre de nouvelles langues.\n",
    "        ¿Dónde está el restaurante más cercano?\n",
    "        最近的餐厅在哪里？\"\"\"\n",
    "sentences = text.split(\"\\n\")\n",
    "for eachsent in sentences:\n",
    "  lang = detect_language(eachsent)\n",
    "  print(eachsent+\"\\t Langauge: \"+ lang)"
   ]
  }
 ],
 "metadata": {
  "colab": {
   "provenance": []
  },
  "kernelspec": {
   "display_name": "Python 3 (ipykernel)",
   "language": "python",
   "name": "python3"
  },
  "language_info": {
   "codemirror_mode": {
    "name": "ipython",
    "version": 3
   },
   "file_extension": ".py",
   "mimetype": "text/x-python",
   "name": "python",
   "nbconvert_exporter": "python",
   "pygments_lexer": "ipython3",
   "version": "3.11.7"
  }
 },
 "nbformat": 4,
 "nbformat_minor": 4
}
