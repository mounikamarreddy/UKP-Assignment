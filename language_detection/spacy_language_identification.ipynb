{
 "cells": [
  {
   "cell_type": "code",
   "execution_count": 3,
   "metadata": {
    "id": "r-Eaazrw52Lc"
   },
   "outputs": [],
   "source": [
    "import spacy\n",
    "from spacy.language import Language\n",
    "\n",
    "from spacy_language_detection import LanguageDetector"
   ]
  },
  {
   "cell_type": "code",
   "execution_count": 4,
   "metadata": {
    "id": "F_rH44ew58hr"
   },
   "outputs": [],
   "source": [
    "def get_lang_detector(nlp, name):\n",
    "    return LanguageDetector(seed=42)  # We use the seed 42"
   ]
  },
  {
   "cell_type": "code",
   "execution_count": 11,
   "metadata": {
    "colab": {
     "base_uri": "https://localhost:8080/"
    },
    "id": "rkD19YKH6DuN",
    "outputId": "84750ea1-31dd-439d-9fa6-e3e74c67ffdd"
   },
   "outputs": [
    {
     "name": "stdout",
     "output_type": "stream",
     "text": [
      "{'language': 'hi', 'score': 0.42857121522113195}\n"
     ]
    }
   ],
   "source": [
    "nlp_model = spacy.load(\"en_core_web_sm\")\n",
    "Language.factory(\"language_detector\", func=get_lang_detector)\n",
    "nlp_model.add_pipe('language_detector', last=True)\n",
    "\n",
    "# Document level language detection\n",
    "text = \"\"\"Hello, how are you?.\n",
    "        क्या आप मेरी मदद कर सकते हैं?.\n",
    "        আপনি কি আমাকে সাহায্য করতে পারেন?\n",
    "        మీరు నాకు సహాయం చేయగలరా?\n",
    "        எனக்கு புதிய மொழிகளை கற்க விரும்புகிறேன்.\n",
    "        ನೀವು ನನಗೆ ಸಹಾಯ ಮಾಡುತ್ತೀರಾ?\n",
    "        મને નવી ભાષાઓ શીખવી ગમે છે.\n",
    "        तुम्ही मला मदत करू शकता का?\n",
    "        J'adore apprendre de nouvelles langues.\n",
    "        ¿Dónde está el restaurante más cercano?\n",
    "        最近的餐厅在哪里？\"\"\"\n",
    "doc = nlp_model(text)\n",
    "language = doc._.language\n",
    "print(language)"
   ]
  },
  {
   "cell_type": "code",
   "execution_count": 12,
   "metadata": {
    "colab": {
     "base_uri": "https://localhost:8080/"
    },
    "id": "buFpa8V47EMQ",
    "outputId": "28a5034e-f226-45aa-9f5f-926bfececd9e"
   },
   "outputs": [
    {
     "name": "stdout",
     "output_type": "stream",
     "text": [
      "Hello, how are you?. \n",
      "         {'language': 'en', 'score': 0.8571417654775959}\n",
      "क्या {'language': 'mr', 'score': 0.9999966344405424}\n",
      "आप मेरी मदद कर सकते हैं?. \n",
      "         {'language': 'hi', 'score': 0.9999983930135614}\n",
      "আপনি কি আমাকে সাহায্য {'language': 'bn', 'score': 0.9999999956876348}\n",
      "করতে পারেন?\n",
      "        మీరు నాకు సహాయం చేయగలరా? \n",
      "        எனக்கு புதிய மொழிகளை கற்க விரும்புகிறேன்.\n",
      "         {'language': 'ta', 'score': 0.9999999573398047}\n",
      "ನೀವು ನನಗೆ ಸಹಾಯ ಮಾಡುತ್ತೀರಾ? \n",
      "         {'language': 'kn', 'score': 0.9999999999598668}\n",
      "મને નવી ભાષાઓ શીખવી ગમે છે. \n",
      "        तुम्ही मला मदत करू {'language': 'gu', 'score': 0.9999988630237826}\n",
      "शकता का?\n",
      "        J'adore apprendre de nouvelles langues. \n",
      "         {'language': 'fr', 'score': 0.9999974737942253}\n",
      "¿Dónde está el restaurante más cercano? \n",
      "         {'language': 'es', 'score': 0.9999965700844271}\n",
      "最近的餐厅在哪里？ {'language': 'zh-cn', 'score': 0.5714285573531612}\n"
     ]
    }
   ],
   "source": [
    "doc = nlp_model(text)\n",
    "for i, sent in enumerate(doc.sents):\n",
    "    print(sent, sent._.language)"
   ]
  },
  {
   "cell_type": "code",
   "execution_count": 13,
   "metadata": {
    "colab": {
     "base_uri": "https://localhost:8080/"
    },
    "id": "ufj3xkdQ6cpm",
    "outputId": "478dff83-27de-4cf9-a814-da92b08069ab"
   },
   "outputs": [
    {
     "name": "stdout",
     "output_type": "stream",
     "text": [
      "This is English text. {'language': 'en', 'score': 0.9999987929307774}\n",
      "Er lebt mit seinen Eltern und seiner Schwester in Berlin. {'language': 'de', 'score': 0.999996045846908}\n",
      "Yo me divierto todos los días en el parque. {'language': 'es', 'score': 0.9999960751128255}\n",
      "Je m'appelle Angélica Summer, j'ai 12 ans et je suis canadienne. {'language': 'fr', 'score': 0.9999960488878062}\n"
     ]
    }
   ],
   "source": [
    "# Sentence level language detection\n",
    "text = \"This is English text. Er lebt mit seinen Eltern und seiner Schwester in Berlin. Yo me divierto todos los días en el parque. Je m'appelle Angélica Summer, j'ai 12 ans et je suis canadienne.\"\n",
    "doc = nlp_model(text)\n",
    "for i, sent in enumerate(doc.sents):\n",
    "    print(sent, sent._.language)"
   ]
  },
  {
   "cell_type": "code",
   "execution_count": null,
   "metadata": {
    "id": "Wrl-lJv26kbF"
   },
   "outputs": [],
   "source": []
  }
 ],
 "metadata": {
  "colab": {
   "provenance": []
  },
  "kernelspec": {
   "display_name": "Python 3 (ipykernel)",
   "language": "python",
   "name": "python3"
  },
  "language_info": {
   "codemirror_mode": {
    "name": "ipython",
    "version": 3
   },
   "file_extension": ".py",
   "mimetype": "text/x-python",
   "name": "python",
   "nbconvert_exporter": "python",
   "pygments_lexer": "ipython3",
   "version": "3.11.7"
  }
 },
 "nbformat": 4,
 "nbformat_minor": 4
}
